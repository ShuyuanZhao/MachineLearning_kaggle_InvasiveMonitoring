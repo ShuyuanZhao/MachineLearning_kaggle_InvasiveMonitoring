{
 "cells": [
  {
   "cell_type": "code",
   "execution_count": null,
   "metadata": {
    "collapsed": true
   },
   "outputs": [],
   "source": [
    "from keras.models import Sequential\n",
    "from keras.layers import Dense, Activation\n",
    "\n",
    "from keras.preprocessing import image\n",
    "from keras.layers import Conv2D, MaxPooling2D, Dense, GlobalAveragePooling2D\n",
    "from keras.models import Model\n",
    "from keras.preprocessing.image import ImageDataGenerator\n",
    "from keras import optimizers\n",
    "from keras.optimizers import SGD\n",
    "from keras.callbacks import ModelCheckpoint\n",
    "from keras.layers import Dropout"
   ]
  },
  {
   "cell_type": "code",
   "execution_count": null,
   "metadata": {
    "collapsed": true
   },
   "outputs": [],
   "source": [
    "'''\n",
    "Inspired by paper, Joint Face Detection and Alignment using\n",
    "Multi-task Cascaded Convolutional Networks\n",
    "'''"
   ]
  },
  {
   "cell_type": "code",
   "execution_count": null,
   "metadata": {
    "collapsed": true
   },
   "outputs": [],
   "source": [
    "def build_Onet(input_tensor_shape):\n",
    "    model = Sequential()\n",
    "    model.add(Conv2D(32,(3,3),activation = 'relu'), input_shape= input_tensor_shape, name = 'conv_1')\n",
    "    model.add(MaxPooling2D(pool_size=(3, 3)), name = 'max_pooling2d_1')\n",
    "    \n",
    "    model.add(Conv2D(64, (3, 3), activation='relu'), name = 'conv_2')\n",
    "    model.add(MaxPooling2D(pool_size=(3, 3)), name = 'max_pooling2d_2')\n",
    "    \n",
    "    model.add(Conv2D(64, (3, 3), activation='relu'), name = 'conv_3')\n",
    "    model.add(MaxPooling2D(pool_size=(2, 2)), name = 'max_pooling2d_2')\n",
    "    \n",
    "    model.add(Conv2D(128, (3, 3), activation='relu')name = 'conv_4')\n",
    "    \n",
    "    model.add(Flatten(), name = 'flatten')\n",
    "    \n",
    "    model.add(Dense(256, activation='relu',name='fc1_Dense'))\n",
    "    model.add(Dropout(0.5, name='dropout_1'))\n",
    "    \n",
    "    model.add(Dense(128, activation='relu',name='fc2_Dense'))\n",
    "    model.add(Dropout(0.5, name='dropout_2'))\n",
    "    \n",
    "    model.add(Dense(1, activation='sigmoid',name='output_layer'))\n",
    "    return model"
   ]
  },
  {
   "cell_type": "code",
   "execution_count": null,
   "metadata": {
    "collapsed": true
   },
   "outputs": [],
   "source": [
    "def save_model_to_json(model,model_save_path):\n",
    "    model_json = model.to_json()\n",
    "    with open(model_save_path, 'w') as json_file:\n",
    "        json_file.write(model_json)"
   ]
  },
  {
   "cell_type": "code",
   "execution_count": null,
   "metadata": {
    "collapsed": true
   },
   "outputs": [],
   "source": [
    "def training_data_shuffle(x_train, y_train):\n",
    "    random_index = np.random.permutation(len(y_train))\n",
    "    x_shuffle = []\n",
    "    y_shuffle = []\n",
    "    for i in range(len(y_train)):\n",
    "        x_shuffle.append(x_train[random_index[i]])\n",
    "        y_shuffle.append(y_train[random_index[i]])\n",
    "    x = np.array(x_shuffle)\n",
    "    y = np.array(y_shuffle)\n",
    "    \n",
    "    return x, y "
   ]
  },
  {
   "cell_type": "code",
   "execution_count": null,
   "metadata": {
    "collapsed": true
   },
   "outputs": [],
   "source": [
    "# build model\n",
    "img_rows, img_cols, img_channel = 48, 48, 3\n",
    "input_tensor_shape=(img_rows, img_cols, img_channel)\n",
    "model = build_Onet(input_tensor_shape)\n",
    "\n",
    "# print model\n",
    "for i, layer in enumerate(model.layers):\n",
    "    print(i, layer.name)\n",
    "\n",
    "# save model\n",
    "save_model_to_json(model,'./onet_model.json')"
   ]
  },
  {
   "cell_type": "code",
   "execution_count": null,
   "metadata": {
    "collapsed": true
   },
   "outputs": [],
   "source": [
    "# load data\n",
    "x_train = np.load('./x_train.npy')\n",
    "y_train = np.load('./y_train.npy') \n",
    "x_test = np.load('./x_test.npy')\n",
    "y_test = np.load('./y_test.npy')\n",
    "# data shuffle\n",
    "(x_train, y_train) = training_data_shuffle(x_train, y_train)\n",
    "print('x_train shape:', x_train.shape)\n",
    "print('y_train shape:', y_train.shape)\n",
    "print('x_test shape:', x_test.shape)\n",
    "print('y_test shape:', y_test.shape)\n"
   ]
  },
  {
   "cell_type": "code",
   "execution_count": null,
   "metadata": {
    "collapsed": true
   },
   "outputs": [],
   "source": [
    "# compile the model\n",
    "model.compile(optimizer=SGD(lr=0.00001, momentum=0.9), loss='binary_crossentropy', metrics=['accuracy'])\n",
    "\n",
    "# set train Generator\n",
    "datagen = ImageDataGenerator(rotation_range=30,width_shift_range=0.2,height_shift_range=0.2,horizontal_flip=True)\n",
    "datagen.fit(x_train)"
   ]
  },
  {
   "cell_type": "code",
   "execution_count": null,
   "metadata": {
    "collapsed": true
   },
   "outputs": [],
   "source": [
    "# trainning process\n",
    "nb_epoch = 3\n",
    "batch_size = 32\n",
    "checkpointer = ModelCheckpoint(filepath= './ResNet50_weights.hdf5', verbose=1, monitor='val_acc',save_best_only=False, save_weights_only=True)\n",
    "model.fit_generator(datagen.flow(x_train, y_train, batch_size=batch_size),\n",
    "                    steps_per_epoch = x_train.shape[0],\n",
    "                    epochs=nb_epoch,\n",
    "                    validation_data = (x_test, y_test),\n",
    "                    callbacks=[checkpointer])"
   ]
  },
  {
   "cell_type": "code",
   "execution_count": null,
   "metadata": {
    "collapsed": true
   },
   "outputs": [],
   "source": []
  },
  {
   "cell_type": "code",
   "execution_count": null,
   "metadata": {
    "collapsed": true
   },
   "outputs": [],
   "source": []
  },
  {
   "cell_type": "code",
   "execution_count": null,
   "metadata": {
    "collapsed": true
   },
   "outputs": [],
   "source": []
  },
  {
   "cell_type": "code",
   "execution_count": null,
   "metadata": {
    "collapsed": true
   },
   "outputs": [],
   "source": []
  }
 ],
 "metadata": {
  "kernelspec": {
   "display_name": "Python 3",
   "language": "python",
   "name": "python3"
  },
  "language_info": {
   "codemirror_mode": {
    "name": "ipython",
    "version": 3
   },
   "file_extension": ".py",
   "mimetype": "text/x-python",
   "name": "python",
   "nbconvert_exporter": "python",
   "pygments_lexer": "ipython3",
   "version": "3.6.1"
  }
 },
 "nbformat": 4,
 "nbformat_minor": 2
}
