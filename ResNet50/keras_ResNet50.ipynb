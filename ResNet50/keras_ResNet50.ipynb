{
 "cells": [
  {
   "cell_type": "code",
   "execution_count": null,
   "metadata": {
    "collapsed": true
   },
   "outputs": [],
   "source": [
    "import os\n",
    "import numpy as np\n",
    "import pandas as pd\n",
    "\n",
    "from keras.preprocessing import image\n",
    "from keras.layers import Dense, GlobalAveragePooling2D\n",
    "from keras.models import Model\n",
    "from keras.preprocessing.image import ImageDataGenerator\n",
    "from keras import optimizers\n",
    "from keras.optimizers import SGD\n",
    "from keras.callbacks import ModelCheckpoint\n",
    "from keras.layers import Dropout\n",
    "# from PIL import ImageFile\n",
    "\n",
    "from keras.applications.resnet50 import resnet50"
   ]
  },
  {
   "cell_type": "code",
   "execution_count": null,
   "metadata": {
    "collapsed": true
   },
   "outputs": [],
   "source": [
    "# img_rows, img_cols, img_channel = 224, 224, 3\n",
    "# input_tensor_shape=(img_rows, img_cols, img_channel)\n",
    "def build_ResNet50(input_tensor_shape,):\n",
    "    '''\n",
    "    # reference \n",
    "        https://keras.io/applications/#vgg16\n",
    "        https://www.tensorflow.org/api_docs/python/tf/contrib/keras/applications/ResNet50\n",
    "    # model defination\n",
    "        https://github.com/tensorflow/tensorflow/blob/r1.2/tensorflow/contrib/keras/python/keras/applications/resnet50.py\n",
    "        \n",
    "    # Arguments\n",
    "        include_top: whether to include the fully-connected layer at the top of the network.\n",
    "     \n",
    "    '''\n",
    "    base_model = resnet50(weights='imagenet', include_top=False, input_shape= input_tensor_shape)\n",
    "    \n",
    "    x_model = base_model.output\n",
    "    \n",
    "    x_model = GlobalAveragePooling2D(name='globalaveragepooling2d')(x_model)\n",
    "    \n",
    "    x_model = Dense(1024, activation='relu',name='fc1_Dense')(x_model)\n",
    "    x_model = Dropout(0.5, name='dropout_1')(x_model)\n",
    "    \n",
    "    x_model = Dense(256, activation='relu',name='fc2_Dense')(x_model)\n",
    "    x_model = Dropout(0.5, name='dropout_2')(x_model)\n",
    "    predictions = Dense(1, activation='sigmoid',name='output_layer')(x_model)\n",
    "    \n",
    "    model = Model(inputs=base_model.input, outputs=predictions)\n",
    "    \n",
    "    # print the model structure\n",
    "    for i, layer in enumerate(model.layers):\n",
    "        print(i, layer.name)\n",
    "    \n",
    "    return model\n",
    "        \n",
    "    "
   ]
  },
  {
   "cell_type": "code",
   "execution_count": null,
   "metadata": {
    "collapsed": true
   },
   "outputs": [],
   "source": [
    "# model_save_path = './model.json'\n",
    "def save_model_to_json(model,model_save_path):\n",
    "    model_json = model.to_json()\n",
    "    with open(model_save_path, 'w') as json_file:\n",
    "        json_file.write(model_json)\n",
    "    "
   ]
  },
  {
   "cell_type": "code",
   "execution_count": null,
   "metadata": {
    "collapsed": true
   },
   "outputs": [],
   "source": [
    "def training_data_shuffle(x_train, y_train):\n",
    "    random_index = np.random.permutation(len(y_train))\n",
    "    x_shuffle = []\n",
    "    y_shuffle = []\n",
    "    for i in range(len(y_train)):\n",
    "        x_shuffle.append(x_train[random_index[i]])\n",
    "        y_shuffle.append(y_train[random_index[i]])\n",
    "    x = np.array(x_shuffle)\n",
    "    y = np.array(y_shuffle)\n",
    "    \n",
    "    return x, y    "
   ]
  },
  {
   "cell_type": "code",
   "execution_count": null,
   "metadata": {
    "collapsed": true
   },
   "outputs": [],
   "source": [
    "# training process\n",
    "# load data\n",
    "x_train = np.load('./x_train.npy')\n",
    "y_train = np.load('./y_train.npy') \n",
    "x_test = np.load('./x_test.npy')\n",
    "y_test = np.load('./y_test.npy')\n",
    "\n",
    "print('x_train shape:', x_train.shape)\n",
    "print('y_train shape:', y_train.shape)\n",
    "print('x_test shape:', x_test.shape)\n",
    "print('y_test shape:', y_test.shape)\n",
    "\n",
    "# data shuffle\n",
    "(x_train, y_train) = training_data_shuffle(x_train, y_train) \n",
    "\n",
    "# get model\n",
    "img_rows, img_cols, img_channel = 224, 224, 3\n",
    "input_tensor_shape=(img_rows, img_cols, img_channel)\n",
    "\n",
    "model = build_ResNet50(input_tensor_shape,)\n",
    "\n",
    "# compile the model\n",
    "model.compile(optimizer=SGD(lr=0.0001, momentum=0.9), loss='binary_crossentropy', metrics=['accuracy'])\n",
    "\n",
    "# set train Generator\n",
    "datagen = ImageDataGenerator(rotation_range=30,width_shift_range=0.2,height_shift_range=0.2,horizontal_flip=True)\n",
    "datagen.fit(x_train)\n",
    "\n",
    "# trainning process\n",
    "nb_epoch = 1\n",
    "batch_size = 32\n",
    "checkpointer = ModelCheckpoint(filepath= './ResNet50_weights.hdf5', verbose=1, monitor='val_acc',save_best_only=True, save_weights_only=True)\n",
    "model.fit_generator(datagen.flow(x_train, y_train, batch_size=batch_size),\n",
    "                    steps_per_epoch = x_train.shape[0],\n",
    "                    epochs=nb_epoch,\n",
    "                    validation_data = (x_test, y_test),\n",
    "                    callbacks=[checkpointer])\n"
   ]
  },
  {
   "cell_type": "code",
   "execution_count": null,
   "metadata": {
    "collapsed": true
   },
   "outputs": [],
   "source": [
    "    "
   ]
  },
  {
   "cell_type": "code",
   "execution_count": null,
   "metadata": {
    "collapsed": true
   },
   "outputs": [],
   "source": []
  },
  {
   "cell_type": "code",
   "execution_count": null,
   "metadata": {
    "collapsed": true
   },
   "outputs": [],
   "source": []
  },
  {
   "cell_type": "code",
   "execution_count": null,
   "metadata": {
    "collapsed": true
   },
   "outputs": [],
   "source": []
  }
 ],
 "metadata": {
  "kernelspec": {
   "display_name": "Python 3",
   "language": "python",
   "name": "python3"
  },
  "language_info": {
   "codemirror_mode": {
    "name": "ipython",
    "version": 3
   },
   "file_extension": ".py",
   "mimetype": "text/x-python",
   "name": "python",
   "nbconvert_exporter": "python",
   "pygments_lexer": "ipython3",
   "version": "3.6.1"
  }
 },
 "nbformat": 4,
 "nbformat_minor": 2
}
